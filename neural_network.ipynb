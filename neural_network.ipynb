{
 "cells": [
  {
   "cell_type": "code",
   "execution_count": 2,
   "metadata": {},
   "outputs": [],
   "source": [
    "#imports\n",
    "import torch\n",
    "import torch.nn as nn\n",
    "import torch.nn.functional as F\n",
    "from torch.utils.data import DataLoader\n",
    "import torchvision.transforms as transforms\n",
    "import torchvision.datasets as datasets"
   ]
  },
  {
   "cell_type": "code",
   "execution_count": 5,
   "metadata": {},
   "outputs": [],
   "source": [
    "class NN(nn.Module):\n",
    "    def __init__(self , input_size , num_classes):\n",
    "        super(NN , self).__init__()\n",
    "        self.fc1 = nn.Linear(input_size , 50)\n",
    "        self.fc2 = nn.Linear(50 , num_classes)\n",
    "    \n",
    "    def forward(self , x):\n",
    "        x = F.relu(self.fc1(x))\n",
    "        x = self.fc2(x)\n",
    "        return x"
   ]
  },
  {
   "cell_type": "code",
   "execution_count": 6,
   "metadata": {},
   "outputs": [],
   "source": [
    "model = NN(784 , 10)\n",
    "x = torch.randn(64 , 784)"
   ]
  },
  {
   "cell_type": "code",
   "execution_count": 7,
   "metadata": {},
   "outputs": [
    {
     "name": "stdout",
     "output_type": "stream",
     "text": [
      "tensor([[ 0.7554, -0.3541, -1.6512,  ...,  1.5739, -0.7781,  0.9468],\n",
      "        [-0.1738, -1.0322,  0.9707,  ..., -0.9147,  0.4626,  1.1706],\n",
      "        [-0.7090, -0.0711,  1.2877,  ..., -0.3569,  0.3845,  0.0976],\n",
      "        ...,\n",
      "        [ 1.2180,  1.0356,  0.9501,  ..., -1.2079,  1.1738, -0.9273],\n",
      "        [ 0.0425, -0.8671, -1.1872,  ...,  0.4422, -1.0767, -1.4338],\n",
      "        [ 0.2166, -0.5230,  1.9060,  ...,  0.0299,  0.5186,  0.4748]])\n"
     ]
    }
   ],
   "source": [
    "print(x)"
   ]
  },
  {
   "cell_type": "code",
   "execution_count": null,
   "metadata": {},
   "outputs": [],
   "source": []
  }
 ],
 "metadata": {
  "interpreter": {
   "hash": "05a35dc2fd6d4dec1ed9414f7f6328dda63cb5a42ac9d5af0bb2c5df49181232"
  },
  "kernelspec": {
   "display_name": "Python 3.9.7 64-bit ('deepLearning': conda)",
   "language": "python",
   "name": "python3"
  },
  "language_info": {
   "codemirror_mode": {
    "name": "ipython",
    "version": 3
   },
   "file_extension": ".py",
   "mimetype": "text/x-python",
   "name": "python",
   "nbconvert_exporter": "python",
   "pygments_lexer": "ipython3",
   "version": "3.9.7"
  },
  "orig_nbformat": 4
 },
 "nbformat": 4,
 "nbformat_minor": 2
}
